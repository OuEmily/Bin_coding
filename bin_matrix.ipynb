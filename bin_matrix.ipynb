{
  "nbformat": 4,
  "nbformat_minor": 0,
  "metadata": {
    "colab": {
      "provenance": [],
      "toc_visible": true,
      "authorship_tag": "ABX9TyPv4wnUD8hkusIh22lCJmtB",
      "include_colab_link": true
    },
    "kernelspec": {
      "name": "python3",
      "display_name": "Python 3"
    },
    "language_info": {
      "name": "python"
    }
  },
  "cells": [
    {
      "cell_type": "markdown",
      "metadata": {
        "id": "view-in-github",
        "colab_type": "text"
      },
      "source": [
        "<a href=\"https://colab.research.google.com/github/OuEmily/Bin_coding/blob/main/bin_matrix.ipynb\" target=\"_parent\"><img src=\"https://colab.research.google.com/assets/colab-badge.svg\" alt=\"Open In Colab\"/></a>"
      ]
    },
    {
      "cell_type": "markdown",
      "source": [
        "## Задача 1"
      ],
      "metadata": {
        "id": "9CvjLKg-meDn"
      }
    },
    {
      "cell_type": "code",
      "source": [
        "import numpy as np"
      ],
      "metadata": {
        "id": "XwNt3L_82Nfp"
      },
      "execution_count": null,
      "outputs": []
    },
    {
      "source": [
        "#Функция для создания образующей матрицы для повторяющихся кодов [rk,k]\n",
        "def create_G_for_repetitive_code(r, k):\n",
        "\n",
        "  G = np.zeros((k, r*k), dtype=int)\n",
        "  for i in range(k):\n",
        "    for j in range(r):\n",
        "      G[i, i*r + j] = 1\n",
        "  return G\n",
        "\n",
        "# Пример использования:\n",
        "r = 3\n",
        "k = 1\n",
        "\n",
        "G = create_G_for_repetitive_code(r, k)\n",
        "print(\"Порождающая матрица G:\\n\", G)"
      ],
      "cell_type": "code",
      "metadata": {
        "colab": {
          "base_uri": "https://localhost:8080/"
        },
        "id": "0OQudMC3Ctdc",
        "outputId": "09d20f17-a55c-4258-e19d-16cefa1d22e1"
      },
      "execution_count": null,
      "outputs": [
        {
          "output_type": "stream",
          "name": "stdout",
          "text": [
            "Порождающая матрица G:\n",
            " [[1 1 1]]\n"
          ]
        }
      ]
    },
    {
      "cell_type": "code",
      "source": [],
      "metadata": {
        "id": "-i6S9djbHexO"
      },
      "execution_count": null,
      "outputs": []
    },
    {
      "cell_type": "code",
      "source": [
        "#Функция для кодирования сообщений с помощью порождающей матрицы G\n",
        "\n",
        "def encode_message(message, G):\n",
        "\n",
        "    return np.dot(message, G) % 2\n",
        "\n",
        "#Прример использования\n",
        "\n",
        "#G = np.array([[1, 0, 0, 1, 1, 0], [0, 1, 0, 0, 1, 1], [0, 0, 1, 1, 0, 1]])\n",
        "\n",
        "message = np.array([1, 0, 1])\n",
        "\n",
        "encoded_message = encode_message(message, G)\n",
        "\n",
        "print(\"Исходное сообщение:\", message)\n",
        "print(\"Закодированное сообщение:\", encoded_message)\n"
      ],
      "metadata": {
        "id": "pRqOMLe_ogO8",
        "colab": {
          "base_uri": "https://localhost:8080/"
        },
        "outputId": "b53f6326-90fd-4b2a-a9da-9d1607ffd791"
      },
      "execution_count": null,
      "outputs": [
        {
          "output_type": "stream",
          "name": "stdout",
          "text": [
            "Исходное сообщение: [1 0 1]\n",
            "Закодированное сообщение: [1 0 1 0 1 1]\n"
          ]
        }
      ]
    },
    {
      "cell_type": "code",
      "source": [
        "#Функция для проверки ошибок с помощью проверочной матрицы H\n",
        "\n",
        "def check_for_errors(codeword, H):\n",
        "    err = np.dot(codeword, H.T) % 2\n",
        "    return err\n",
        "\n",
        "#Пример использования\n",
        "#H = np.array([[1, 1, 0, 1, 0, 0], [0, 1, 1, 0, 1, 0], [1, 0, 1, 0, 0, 1]])\n",
        "codeword = np.array([1, 0, 1, 1, 1, 0])\n",
        "errors = check_for_errors(codeword, H)\n",
        "print(\"Проверка:\", errors)\n"
      ],
      "metadata": {
        "colab": {
          "base_uri": "https://localhost:8080/"
        },
        "id": "dxF35o7F2zBg",
        "outputId": "68a5363d-b9f1-4377-dcc7-e13971d171c1"
      },
      "execution_count": null,
      "outputs": [
        {
          "output_type": "stream",
          "name": "stdout",
          "text": [
            "Проверка: [0 0 0]\n"
          ]
        }
      ]
    },
    {
      "cell_type": "code",
      "source": [
        "#Функция для исправления ошибок\n",
        "def correct_errors(codeword, H):\n",
        "\n",
        "    errors = check_for_errors(codeword, H)\n",
        "\n",
        "    if np.all(errors == 0):\n",
        "        return codeword\n",
        "\n",
        "    for i in range(H.shape[1]):\n",
        "        if np.array_equal(errors, H[:, i]):\n",
        "            codeword[i] = (codeword[i] + 1) % 2\n",
        "            break\n",
        "\n",
        "    return codeword"
      ],
      "metadata": {
        "id": "EDmOQipn3s5L"
      },
      "execution_count": null,
      "outputs": []
    },
    {
      "cell_type": "code",
      "source": [
        "#Пример использования\n",
        "codeword_with_error = np.array([1, 0, 1, 1, 0, 0])\n",
        "print(\"Сообщение с ошибкой:\", codeword_with_error)\n",
        "corrected_codeword = correct_errors(codeword_with_error, H)\n",
        "\n",
        "#print(\"Сообщение с ошибкой:\", codeword_with_error)\n",
        "print(\"Исправленное сообщение:\", corrected_codeword)\n"
      ],
      "metadata": {
        "colab": {
          "base_uri": "https://localhost:8080/"
        },
        "id": "6mt_8FEn35wE",
        "outputId": "3fce996b-a572-4676-9498-5333f7d4b05f"
      },
      "execution_count": null,
      "outputs": [
        {
          "output_type": "stream",
          "name": "stdout",
          "text": [
            "Сообщение с ошибкой: [1 0 1 1 0 0]\n",
            "Исправленное сообщение: [1 0 1 1 1 0]\n"
          ]
        }
      ]
    },
    {
      "cell_type": "markdown",
      "source": [
        "### Доп. задание к заданию 1"
      ],
      "metadata": {
        "id": "w4mbjrLw6MJv"
      }
    },
    {
      "cell_type": "code",
      "source": [
        "#Функция для создания проверочной матрицы из порождающей\n",
        "def create_H_from_G(G):\n",
        "\n",
        "  k, n = G.shape\n",
        "  P = G[:, k:]\n",
        "  I_r = np.eye(n - k, dtype=int)\n",
        "  H = np.concatenate((P.T, I_r), axis=1)\n",
        "\n",
        "  return H\n",
        "\n",
        "\n",
        "# Пример использования:\n",
        "G = np.array([[1, 0, 0, 1, 1, 0],\n",
        "              [0, 1, 0, 0, 1, 1],\n",
        "              [0, 0, 1, 1, 0, 1]])\n",
        "\n",
        "H = create_H_from_G(G)\n",
        "print(\"Порождающая матрица G: \\n\", G)\n",
        "print(\"Проверочная матрица H: \\n\", H)\n"
      ],
      "metadata": {
        "colab": {
          "base_uri": "https://localhost:8080/"
        },
        "id": "E06_ehif6COf",
        "outputId": "9c8d71ec-acc3-4a80-e39f-a456cf356d30"
      },
      "execution_count": null,
      "outputs": [
        {
          "output_type": "stream",
          "name": "stdout",
          "text": [
            "Порождающая матрица G: \n",
            " [[1 0 0 1 1 0]\n",
            " [0 1 0 0 1 1]\n",
            " [0 0 1 1 0 1]]\n",
            "Проверочная матрица H: \n",
            " [[1 0 1 1 0 0]\n",
            " [1 1 0 0 1 0]\n",
            " [0 1 1 0 0 1]]\n"
          ]
        }
      ]
    },
    {
      "cell_type": "code",
      "source": [
        "#Функция для создания порождающей матрицы из проверочной\n",
        "\n",
        "def create_G_from_H(H):\n",
        "\n",
        "  r, n = H.shape\n",
        "  I_k = np.eye(n - r, dtype=int)\n",
        "  P = H[:, :n - r]\n",
        "  G = np.concatenate((I_k, P), axis=1)\n",
        "  return G\n",
        "\n",
        "# Пример использования:\n",
        "H = np.array([[1, 1, 0, 1, 0, 0],\n",
        "              [0, 1, 1, 0, 1, 0],\n",
        "              [1, 0, 1, 0, 0, 1]])\n",
        "\n",
        "G = create_G_from_H(H)\n",
        "print(\"Проверочная матрица H: \\n\", H)\n",
        "print(\"Порождающая матрица G: \\n\", G)\n"
      ],
      "metadata": {
        "colab": {
          "base_uri": "https://localhost:8080/"
        },
        "id": "zQ1AL93w7YN3",
        "outputId": "1b107367-a71c-4d3d-cc30-0faeb3d3c031"
      },
      "execution_count": null,
      "outputs": [
        {
          "output_type": "stream",
          "name": "stdout",
          "text": [
            "Проверочная матрица H: \n",
            " [[1 1 0 1 0 0]\n",
            " [0 1 1 0 1 0]\n",
            " [1 0 1 0 0 1]]\n",
            "Порождающая матрица G: \n",
            " [[1 0 0 1 1 0]\n",
            " [0 1 0 0 1 1]\n",
            " [0 0 1 1 0 1]]\n"
          ]
        }
      ]
    },
    {
      "cell_type": "markdown",
      "source": [
        "## Задача 2"
      ],
      "metadata": {
        "id": "h2GxTLm_7t6e"
      }
    },
    {
      "cell_type": "code",
      "source": [
        "#функция создания порождающей матрицы для кода Хэмминга\n",
        "def create_G_for_hamming_code(r):\n",
        "\n",
        "  n = 2**r - 1\n",
        "  k = n - r\n",
        "  P = np.zeros((k, r), dtype=int)\n",
        "\n",
        "  for i in range(k):\n",
        "    binary_representation = bin(i + 1)[2:].zfill(r)\n",
        "    for j in range(r):\n",
        "      if binary_representation[j] == '1':\n",
        "        P[i, j] = 1\n",
        "\n",
        "  I_k = np.eye(k, dtype=int)\n",
        "  G = np.concatenate((I_k, P), axis=1)\n",
        "  return G\n",
        "\n",
        "# Пример использования:\n",
        "r = 3\n",
        "G = create_G_for_hamming_code(r)\n",
        "print(\"Порождающая матрица G для кода Хэмминга [7, 4, 3]:\\n\", G)\n"
      ],
      "metadata": {
        "colab": {
          "base_uri": "https://localhost:8080/"
        },
        "id": "Zg7P3_v1IJjT",
        "outputId": "90683e6b-53e0-4b55-8cc0-5edc68f4cb3f"
      },
      "execution_count": null,
      "outputs": [
        {
          "output_type": "stream",
          "name": "stdout",
          "text": [
            "Порождающая матрица G для кода Хэмминга [7, 4, 3]:\n",
            " [[1 0 0 0 0 0 1]\n",
            " [0 1 0 0 0 1 0]\n",
            " [0 0 1 0 0 1 1]\n",
            " [0 0 0 1 1 0 0]]\n"
          ]
        }
      ]
    },
    {
      "cell_type": "code",
      "source": [
        "# Функция для кодирования сообщений с помощью порождающей матрицы G\n",
        "def encode_hamming(message, G):\n",
        "    return np.dot(message, G) % 2"
      ],
      "metadata": {
        "id": "dftJ8xDeQUD6"
      },
      "execution_count": null,
      "outputs": []
    },
    {
      "source": [
        "import numpy as np\n",
        "#Функция создания проверочной матрицы H\n",
        "def create_H_for_hamming_code(r):\n",
        "\n",
        "  n = 2**r - 1\n",
        "  H = np.zeros((r, n), dtype=int)\n",
        "  for i in range(1, n + 1):\n",
        "    binary_representation = bin(i)[2:].zfill(r)\n",
        "    for j in range(r):\n",
        "      H[j, i - 1] = int(binary_representation[j])\n",
        "  return H\n",
        "\n",
        "# Пример использования:\n",
        "r = 3\n",
        "H = create_H_for_hamming_code(r)\n",
        "print(\"Проверочная матрица H для кода Хэмминга [7, 4, 3]:\\n\", H)"
      ],
      "cell_type": "code",
      "metadata": {
        "colab": {
          "base_uri": "https://localhost:8080/"
        },
        "id": "2ZdpA4omQ8J6",
        "outputId": "0b460c2b-611e-4d8c-8acf-7b3c6e42ac91"
      },
      "execution_count": null,
      "outputs": [
        {
          "output_type": "stream",
          "name": "stdout",
          "text": [
            "Проверочная матрица H для кода Хэмминга [7, 4, 3]:\n",
            " [[0 0 0 1 1 1 1]\n",
            " [0 1 1 0 0 1 1]\n",
            " [1 0 1 0 1 0 1]]\n"
          ]
        }
      ]
    },
    {
      "cell_type": "code",
      "source": [
        "# Функция для проверки ошибок с помощью проверочной матрицы H\n",
        "def check_hamming_errors(codeword, H):\n",
        "    syndrome = np.dot(codeword, H.T) % 2\n",
        "    return syndrome"
      ],
      "metadata": {
        "id": "_Ik_MMi4RgKG"
      },
      "execution_count": null,
      "outputs": []
    },
    {
      "cell_type": "code",
      "source": [
        "# Функция для исправления ошибок\n",
        "def correct_hamming_errors(codeword, H):\n",
        "    syndrome = check_hamming_errors(codeword, H)\n",
        "    if np.all(syndrome == 0):\n",
        "        return codeword\n",
        "\n",
        "    error_position = int(\"\".join(map(str, syndrome)), 2)\n",
        "    if error_position > 0:\n",
        "        codeword[error_position - 1] = (codeword[error_position - 1] + 1) % 2\n",
        "\n",
        "    return codeword"
      ],
      "metadata": {
        "id": "gawizaSJTjTu"
      },
      "execution_count": null,
      "outputs": []
    },
    {
      "cell_type": "code",
      "source": [
        "# Функция для создания проверочной матрицы из порождающей\n",
        "def create_hamming_H_from_G(G):\n",
        "    k, n = G.shape\n",
        "    P = G[:, k:]\n",
        "    I_r = np.eye(n - k, dtype=int)\n",
        "    H = np.concatenate((P.T, I_r), axis=1)\n",
        "    return H\n",
        "\n",
        "# Функция для создания порождающей матрицы из проверочной\n",
        "def create_hamming_G_from_H(H):\n",
        "    r, n = H.shape\n",
        "    I_k = np.eye(n - r, dtype=int)\n",
        "    P = H[:, :n - r]\n",
        "    G = np.concatenate((I_k, P), axis=1)\n",
        "    return G"
      ],
      "metadata": {
        "id": "HDcDa6nHTnrM"
      },
      "execution_count": null,
      "outputs": []
    },
    {
      "cell_type": "code",
      "source": [
        "# Пример использования\n",
        "r = 3\n",
        "n = 2**r - 1\n",
        "k = n - r\n",
        "\n",
        "# Порождающая матрица G\n",
        "G = np.array([\n",
        "    [1, 0, 0, 0, 1, 1, 0],\n",
        "    [0, 1, 0, 0, 1, 0, 1],\n",
        "    [0, 0, 1, 0, 0, 1, 1],\n",
        "    [0, 0, 0, 1, 1, 1, 1]\n",
        "])\n",
        "\n",
        "H = create_hamming_H_from_G(G)\n",
        "\n",
        "message = np.array([1, 0, 1, 1])\n",
        "\n",
        "encoded_message = encode_hamming(message, G)\n",
        "print(\"Закодированное сообщение:\", encoded_message)\n",
        "\n",
        "codeword_with_error = encoded_message.copy()\n",
        "codeword_with_error[2] = (codeword_with_error[2] + 1) % 2\n",
        "print(\"Сообщение с ошибкой:\", codeword_with_error)\n",
        "\n",
        "\n",
        "corrected_codeword = correct_hamming_errors(codeword_with_error, H)\n",
        "print(\"Исправленное сообщение:\", corrected_codeword)\n",
        "\n"
      ],
      "metadata": {
        "colab": {
          "base_uri": "https://localhost:8080/"
        },
        "id": "SfoO49kp7zRA",
        "outputId": "c0729750-24b4-49f7-f97e-72eb858c76ca"
      },
      "execution_count": null,
      "outputs": [
        {
          "output_type": "stream",
          "name": "stdout",
          "text": [
            "Закодированное сообщение: [1 0 1 1 0 1 0]\n",
            "Сообщение с ошибкой: [1 0 0 1 0 1 0]\n",
            "Исправленное сообщение: [1 0 1 1 0 1 0]\n"
          ]
        }
      ]
    }
  ]
}
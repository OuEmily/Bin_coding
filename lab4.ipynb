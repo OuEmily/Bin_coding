{
  "nbformat": 4,
  "nbformat_minor": 0,
  "metadata": {
    "colab": {
      "provenance": [],
      "authorship_tag": "ABX9TyM/ke/VcAwDqeu3D4jLc/p3",
      "include_colab_link": true
    },
    "kernelspec": {
      "name": "python3",
      "display_name": "Python 3"
    },
    "language_info": {
      "name": "python"
    }
  },
  "cells": [
    {
      "cell_type": "markdown",
      "metadata": {
        "id": "view-in-github",
        "colab_type": "text"
      },
      "source": [
        "<a href=\"https://colab.research.google.com/github/OuEmily/Bin_coding/blob/main/lab4.ipynb\" target=\"_parent\"><img src=\"https://colab.research.google.com/assets/colab-badge.svg\" alt=\"Open In Colab\"/></a>"
      ]
    },
    {
      "cell_type": "markdown",
      "source": [
        "# Лабораторная работа №4:\n",
        "\n",
        "Выполнила студентка группы БПМ-22-ПО-3 Юлдашева Эмилия"
      ],
      "metadata": {
        "id": "jquXqmt9Ndy8"
      }
    },
    {
      "cell_type": "markdown",
      "source": [
        "## Задание 4"
      ],
      "metadata": {
        "id": "EYN1H40XNn2c"
      }
    },
    {
      "cell_type": "code",
      "source": [
        "import collections"
      ],
      "metadata": {
        "id": "WqYuVAW6N5_y"
      },
      "execution_count": 9,
      "outputs": []
    },
    {
      "cell_type": "code",
      "source": [
        "# функция для постоения бинарного дерева\n",
        "def build_tree(freq):\n",
        "    nodes = freq.copy()\n",
        "    while len(nodes) > 1:\n",
        "        nodes = sorted(nodes, key=lambda x: x[1])\n",
        "        left = nodes.pop(0)\n",
        "        right = nodes.pop(0)\n",
        "        parent = ((left[0], right[0]), left[1] + right[1])\n",
        "        nodes.append(parent)\n",
        "    return nodes[0][0]"
      ],
      "metadata": {
        "id": "ED_3AN3gPHL0"
      },
      "execution_count": 10,
      "outputs": []
    },
    {
      "cell_type": "code",
      "source": [
        "#функция кодирования символов с помощью бинарного дерева\n",
        "def assign_codes(node, code='', codes={}):\n",
        "    if isinstance(node, str):\n",
        "        codes[node] = code\n",
        "    else:\n",
        "        assign_codes(node[0], code + '0', codes)\n",
        "        assign_codes(node[1], code + '1', codes)\n",
        "    return codes"
      ],
      "metadata": {
        "id": "z6scwV6aPMxc"
      },
      "execution_count": 11,
      "outputs": []
    },
    {
      "cell_type": "code",
      "source": [
        "#функция кодирования текста\n",
        "def fano_encode(text):\n",
        "    freq = collections.Counter(text)\n",
        "    tree = build_tree(freq.most_common())\n",
        "    codes = assign_codes(tree)\n",
        "    encoded_text = ''.join(codes[char] for char in text)\n",
        "    return codes, encoded_text"
      ],
      "metadata": {
        "id": "n_b_E-W7POqa"
      },
      "execution_count": 12,
      "outputs": []
    },
    {
      "cell_type": "code",
      "source": [
        "#Пример использования\n",
        "text = \"это пример текста для кодирования\"\n",
        "codes, encoded_text = fano_encode(text)\n",
        "\n",
        "print(\"Кодовые слова:\")\n",
        "for char, code in codes.items():\n",
        "    print(f\"{char}: {code}\")\n",
        "\n",
        "print(\"\\nЗакодированный текст:\", encoded_text)\n"
      ],
      "metadata": {
        "colab": {
          "base_uri": "https://localhost:8080/"
        },
        "id": "96rzOMiIPRX2",
        "outputId": "362a8687-8b78-42e2-c475-70d6859e70cd"
      },
      "execution_count": 13,
      "outputs": [
        {
          "output_type": "stream",
          "name": "stdout",
          "text": [
            "Кодовые слова:\n",
            "и: 000\n",
            "н: 0010\n",
            "е: 0011\n",
            " : 010\n",
            "к: 0110\n",
            "а: 0111\n",
            "д: 1000\n",
            "я: 1001\n",
            "э: 10100\n",
            "п: 10101\n",
            "м: 10110\n",
            "с: 10111\n",
            "л: 11000\n",
            "в: 11001\n",
            "т: 1101\n",
            "о: 1110\n",
            "р: 1111\n",
            "\n",
            "Закодированный текст: 10100110111100101010111110001011000111111010110100110110101111101011101010001100010010100110111010000001111111011001011100100001001\n"
          ]
        }
      ]
    }
  ]
}